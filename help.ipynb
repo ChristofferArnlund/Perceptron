{
 "cells": [
  {
   "cell_type": "code",
   "execution_count": 2,
   "metadata": {
    "collapsed": false
   },
   "outputs": [
    {
     "name": "stdout",
     "output_type": "stream",
     "text": [
      "0\n",
      "-21.6628033437\n",
      "328.099789939\n"
     ]
    },
    {
     "data": {
      "text/plain": [
       "<matplotlib.quiver.Quiver at 0x2214dbc8a20>"
      ]
     },
     "execution_count": 2,
     "metadata": {},
     "output_type": "execute_result"
    },
    {
     "data": {
      "image/png": "[encoded data removed]",
      "text/plain": [
       "<matplotlib.figure.Figure at 0x2214ce79dd8>"
      ]
     },
     "metadata": {},
     "output_type": "display_data"
    },
    {
     "data": {
      "image/png": "[encoded data removed]",
      "text/plain": [
       "<matplotlib.figure.Figure at 0x2214cfae358>"
      ]
     },
     "metadata": {},
     "output_type": "display_data"
    },
    {
     "data": {
      "image/png": "[encoded data removed]",
      "text/plain": [
       "<matplotlib.figure.Figure at 0x2214cfaeac8>"
      ]
     },
     "metadata": {},
     "output_type": "display_data"
    }
   ],
   "source": [
    "# -*- coding: utf-8 -*-\n",
    "\"\"\"\n",
    "Created on Mon Feb 19 19:44:23 2018\n",
    "\n",
    "@author: Christoffer\n",
    "\"\"\"\n",
    "\n",
    "import numpy as np\n",
    "from matplotlib import pyplot as plt\n",
    "%matplotlib inline \n",
    "\n",
    "X=np.array([\n",
    " [15694,  1042    ,-1] ,\n",
    " [18317 , 1215    ,-1],\n",
    " [25486  ,1784    ,-1],\n",
    " [29945  ,2014    ,-1],\n",
    " [30899  ,2126    ,-1],\n",
    " [36231  ,2487    ,-1],\n",
    " [36961  ,2503    ,-1],\n",
    " [37497  ,2641    ,-1],\n",
    " [37709  ,2643    ,-1],\n",
    " [40398  ,2766   , -1],\n",
    " [40588  ,2805  ,  -1],\n",
    " [43621  ,2992 ,   -1],\n",
    " [74105  ,5047,    -1],\n",
    " [75255  ,5062    ,-1],\n",
    " [76725  ,5312    ,-1],\n",
    " [15162  , 990    ,-1],\n",
    " [18031  ,1119    ,-1],\n",
    " [24843  ,1627    ,-1],\n",
    " [29800  ,1865    ,-1],\n",
    " [31030  ,1993    ,-1],\n",
    " [35298  ,2274    ,-1],\n",
    " [35680  ,2217    ,-1],\n",
    " [36172  ,2375    ,-1],\n",
    " [37464  ,2396    ,-1],\n",
    " [39552  ,2560    ,-1],\n",
    " [40255  ,2606    ,-1],\n",
    " [42514  ,2761   , -1],\n",
    " [72545  ,4597  ,  -1],\n",
    " [75352  ,4871 ,   -1],\n",
    " [74532  ,4805,    -1]])\n",
    "y=np.array([ 1,  1,  1,  1,  1,  1,  1,  1,  1,  1,  1,  1,  1,  1,  1, -1, -1, -1, -1, -1, -1, -1, -1, -1, -1,\n",
    " -1, -1, -1, -1, -1])\n",
    "\n",
    "for d, sample in enumerate(X):\n",
    "    if y[d] < 1 :\n",
    "        plt.scatter(sample[0],sample[1],s=120,marker='.',linewidths=2,color='blue')\n",
    "    else:\n",
    "        plt.scatter(sample[0],sample[1],s=120,marker='.',linewidths=2,color='red')\n",
    "        \n",
    "        \n",
    "def svm_sgd_plot(X, Y):\n",
    "    #init SVMs weight vector with zeros (3 vals)\n",
    "    \n",
    "    w = np.zeros(len(X[0]))\n",
    "    #Learning rate\n",
    "    eta = 1\n",
    "    # #iterations\n",
    "    epochs = 0\n",
    "    print(epochs)\n",
    "    #store missclassifications so we can plot the dt\n",
    "    #change over time\n",
    "    errors = []\n",
    "    total_error=-1\n",
    "    while total_error!=0:\n",
    "        #error = 0\n",
    "        total_error = 0\n",
    "        epochs+=1\n",
    "        for i, x in enumerate(X):\n",
    " \n",
    "            # ------------------PERCEPTRON --------------\n",
    "            if (np.dot(X[i], w)*Y[i]) <= 0:\n",
    "                eta = eta*0.95\n",
    "                total_error += (np.dot(X[i], w)*Y[i])\n",
    "                w = w + eta*X[i]*Y[i]\n",
    "                \n",
    "                 \n",
    "        errors.append(total_error*-1)\n",
    "\n",
    "    plt.figure()\n",
    "    plt.plot(errors)\n",
    "    plt.xlabel('Epoch')\n",
    "    plt.ylabel('Total Loss')\n",
    "    return w,epochs\n",
    "w,epochs=svm_sgd_plot(X,y)\n",
    "plt.figure()\n",
    "for d, sample in enumerate(X):\n",
    "    #plot the negative samples\n",
    "    \n",
    "    for d, sample in enumerate(X):\n",
    "        if y[d] < 0 :\n",
    "            plt.scatter(sample[0],sample[1],s=120,marker='.',linewidths=2,color='blue')\n",
    "        else:\n",
    "            plt.scatter(sample[0],sample[1],s=120,marker='.',linewidths=2,color='red')\n",
    "\n",
    "\n",
    "# print the hyperplane calculated by svm_sgd()\n",
    "x2=[w[0],w[1],-w[1],w[0]]\n",
    "x3=[w[0],w[1],w[1],-w[0]]\n",
    "print(w[0])\n",
    "print(w[1])\n",
    "\n",
    "x2x3 = np.array([x2,x3])\n",
    "X,Y,U,V = zip(*x2x3)\n",
    "ax=plt.gca()\n",
    "ax.quiver(X,Y,U,V,scale=1,color='blue')"
   ]
  },
  {
   "cell_type": "code",
   "execution_count": null,
   "metadata": {
    "collapsed": true
   },
   "outputs": [],
   "source": []
  }
 ],
 "metadata": {
  "kernelspec": {
   "display_name": "Python 3",
   "language": "python",
   "name": "python3"
  },
  "language_info": {
   "codemirror_mode": {
    "name": "ipython",
    "version": 3
   },
   "file_extension": ".py",
   "mimetype": "text/x-python",
   "name": "python",
   "nbconvert_exporter": "python",
   "pygments_lexer": "ipython3",
   "version": "3.6.0"
  }
 },
 "nbformat": 4,
 "nbformat_minor": 2
}
